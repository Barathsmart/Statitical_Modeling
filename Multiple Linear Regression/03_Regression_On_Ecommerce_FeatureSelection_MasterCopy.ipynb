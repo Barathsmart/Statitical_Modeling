{
 "cells": [
  {
   "cell_type": "markdown",
   "metadata": {},
   "source": [
    "## Business Problem"
   ]
  },
  {
   "cell_type": "markdown",
   "metadata": {},
   "source": [
    "Ecommerce company based in a City that sells clothing online but they also have in-store style and clothing advice sessions. \n",
    "Customers come in to the store, have sessions/meetings with a personal stylist, then they can go home and order either on a mobile app or website for the clothes they want.\n",
    "The company is trying to <b> Decide whether to focus their efforts on their mobile app experience or their website. </b>\n"
   ]
  },
  {
   "cell_type": "markdown",
   "metadata": {},
   "source": [
    "## About the Data\n",
    "\n",
    "We'll work with the Ecommerce Customers csv file from the company. It has Customer info, suchas Email, Address, and their color Avatar. Then it also has numerical value columns:\n",
    "\n",
    "* Avg. Session Length: Average session of in-store style advice sessions.\n",
    "* Time on App: Average time spent on App in minutes\n",
    "* Time on Website: Average time spent on Website in minutes\n",
    "* Length of Membership: How many years the customer has been a member. \n",
    "\n",
    "** Read in the Ecommerce Customers csv file as a DataFrame called customers.**"
   ]
  },
  {
   "cell_type": "markdown",
   "metadata": {},
   "source": [
    "## Loading the required modules \n",
    "** Import pandas, numpy, matplotlib,and seaborn. Then set %matplotlib inline \n",
    "(You'll import sklearn as you need it.)**"
   ]
  },
  {
   "cell_type": "code",
   "execution_count": 113,
   "metadata": {},
   "outputs": [],
   "source": [
    "import pandas as pd\n",
    "import numpy as np\n",
    "import matplotlib.pyplot as plt\n",
    "import seaborn as sns\n",
    "%matplotlib inline\n",
    "import warnings\n",
    "from IPython.display import Image\n",
    "warnings.filterwarnings('ignore')\n"
   ]
  },
  {
   "cell_type": "code",
   "execution_count": 114,
   "metadata": {},
   "outputs": [],
   "source": [
    "customers = pd.read_csv(\"Ecommerce Customers.csv\")"
   ]
  },
  {
   "cell_type": "code",
   "execution_count": 115,
   "metadata": {},
   "outputs": [],
   "source": [
    "customers_clean = customers.drop(columns = ['Email','Address','Avatar'],axis=1)\n"
   ]
  },
  {
   "cell_type": "markdown",
   "metadata": {},
   "source": [
    "## Dealing with Categorical Variables"
   ]
  },
  {
   "cell_type": "code",
   "execution_count": 116,
   "metadata": {},
   "outputs": [],
   "source": [
    "customers_clean = pd.get_dummies(data=customers_clean, drop_first=True,dtype='int8')"
   ]
  },
  {
   "cell_type": "code",
   "execution_count": 117,
   "metadata": {},
   "outputs": [
    {
     "data": {
      "text/html": [
       "<div>\n",
       "<style scoped>\n",
       "    .dataframe tbody tr th:only-of-type {\n",
       "        vertical-align: middle;\n",
       "    }\n",
       "\n",
       "    .dataframe tbody tr th {\n",
       "        vertical-align: top;\n",
       "    }\n",
       "\n",
       "    .dataframe thead th {\n",
       "        text-align: right;\n",
       "    }\n",
       "</style>\n",
       "<table border=\"1\" class=\"dataframe\">\n",
       "  <thead>\n",
       "    <tr style=\"text-align: right;\">\n",
       "      <th></th>\n",
       "      <th>Avg. Session Length</th>\n",
       "      <th>Time on App</th>\n",
       "      <th>Time on Website</th>\n",
       "      <th>Length of Membership</th>\n",
       "      <th>Yearly Amount Spent</th>\n",
       "      <th>Gender_Male</th>\n",
       "    </tr>\n",
       "  </thead>\n",
       "  <tbody>\n",
       "    <tr>\n",
       "      <th>0</th>\n",
       "      <td>34.374258</td>\n",
       "      <td>15.126994</td>\n",
       "      <td>37.157624</td>\n",
       "      <td>5.377594</td>\n",
       "      <td>765.518462</td>\n",
       "      <td>0</td>\n",
       "    </tr>\n",
       "    <tr>\n",
       "      <th>1</th>\n",
       "      <td>34.603311</td>\n",
       "      <td>12.207298</td>\n",
       "      <td>33.913847</td>\n",
       "      <td>6.922689</td>\n",
       "      <td>744.221867</td>\n",
       "      <td>1</td>\n",
       "    </tr>\n",
       "    <tr>\n",
       "      <th>2</th>\n",
       "      <td>33.256335</td>\n",
       "      <td>13.858062</td>\n",
       "      <td>37.780265</td>\n",
       "      <td>5.976768</td>\n",
       "      <td>725.584814</td>\n",
       "      <td>1</td>\n",
       "    </tr>\n",
       "    <tr>\n",
       "      <th>3</th>\n",
       "      <td>34.967610</td>\n",
       "      <td>13.919494</td>\n",
       "      <td>37.952013</td>\n",
       "      <td>5.066697</td>\n",
       "      <td>712.396327</td>\n",
       "      <td>0</td>\n",
       "    </tr>\n",
       "    <tr>\n",
       "      <th>4</th>\n",
       "      <td>34.385820</td>\n",
       "      <td>12.729720</td>\n",
       "      <td>36.232110</td>\n",
       "      <td>5.705941</td>\n",
       "      <td>708.935185</td>\n",
       "      <td>0</td>\n",
       "    </tr>\n",
       "  </tbody>\n",
       "</table>\n",
       "</div>"
      ],
      "text/plain": [
       "   Avg. Session Length  Time on App  Time on Website  Length of Membership  \\\n",
       "0            34.374258    15.126994        37.157624              5.377594   \n",
       "1            34.603311    12.207298        33.913847              6.922689   \n",
       "2            33.256335    13.858062        37.780265              5.976768   \n",
       "3            34.967610    13.919494        37.952013              5.066697   \n",
       "4            34.385820    12.729720        36.232110              5.705941   \n",
       "\n",
       "   Yearly Amount Spent  Gender_Male  \n",
       "0           765.518462            0  \n",
       "1           744.221867            1  \n",
       "2           725.584814            1  \n",
       "3           712.396327            0  \n",
       "4           708.935185            0  "
      ]
     },
     "execution_count": 117,
     "metadata": {},
     "output_type": "execute_result"
    }
   ],
   "source": [
    "customers_clean.head()"
   ]
  },
  {
   "cell_type": "markdown",
   "metadata": {},
   "source": [
    "## Data Preparation for model building \n",
    "\n",
    "Now that we've explored the data a bit, let's go ahead and split the data into training and testing sets.\n",
    "** Set a variable X equal to the numerical features of the customers and a variable y equal to the \"Yearly Amount Spent\" column. **"
   ]
  },
  {
   "cell_type": "code",
   "execution_count": 118,
   "metadata": {},
   "outputs": [
    {
     "name": "stdout",
     "output_type": "stream",
     "text": [
      "<class 'pandas.core.frame.DataFrame'>\n",
      "RangeIndex: 500 entries, 0 to 499\n",
      "Data columns (total 6 columns):\n",
      " #   Column                Non-Null Count  Dtype  \n",
      "---  ------                --------------  -----  \n",
      " 0   Avg. Session Length   500 non-null    float64\n",
      " 1   Time on App           500 non-null    float64\n",
      " 2   Time on Website       500 non-null    float64\n",
      " 3   Length of Membership  500 non-null    float64\n",
      " 4   Yearly Amount Spent   500 non-null    float64\n",
      " 5   Gender_Male           500 non-null    int8   \n",
      "dtypes: float64(5), int8(1)\n",
      "memory usage: 20.1 KB\n"
     ]
    }
   ],
   "source": [
    "customers_clean.info()"
   ]
  },
  {
   "cell_type": "code",
   "execution_count": 119,
   "metadata": {},
   "outputs": [],
   "source": [
    "X = customers_clean.drop(['Yearly Amount Spent'],axis=1)\n",
    "y = customers_clean['Yearly Amount Spent']"
   ]
  },
  {
   "cell_type": "code",
   "execution_count": 120,
   "metadata": {},
   "outputs": [],
   "source": [
    "import statsmodels.api as sm\n",
    "from sklearn.model_selection import train_test_split\n",
    "from sklearn.preprocessing import MinMaxScaler, StandardScaler\n"
   ]
  },
  {
   "cell_type": "code",
   "execution_count": 121,
   "metadata": {},
   "outputs": [],
   "source": [
    "X_train, X_test, y_train, y_test = train_test_split(X, y, test_size=0.2, random_state=101)\n"
   ]
  },
  {
   "cell_type": "code",
   "execution_count": 122,
   "metadata": {},
   "outputs": [],
   "source": [
    "num_vars = ['Avg. Session Length', 'Time on App', 'Time on Website',\n",
    "       'Length of Membership']"
   ]
  },
  {
   "cell_type": "code",
   "execution_count": 123,
   "metadata": {},
   "outputs": [],
   "source": [
    "scaler = StandardScaler()\n",
    "X_train[num_vars] = scaler.fit_transform(X_train[num_vars])\n",
    "X_test[num_vars] = scaler.fit_transform(X_test[num_vars])"
   ]
  },
  {
   "cell_type": "code",
   "execution_count": 124,
   "metadata": {},
   "outputs": [],
   "source": [
    "# adding the Constant term\n",
    "X_trainReg = sm.add_constant(X_train)\n",
    "X_testReg = sm.add_constant(X_test)\n"
   ]
  },
  {
   "cell_type": "markdown",
   "metadata": {},
   "source": [
    "## Training the Model\n",
    "\n",
    "Now its time to train our model on our training data!\n",
    "\n"
   ]
  },
  {
   "cell_type": "markdown",
   "metadata": {},
   "source": [
    "## Multiple Regression model - R style"
   ]
  },
  {
   "cell_type": "code",
   "execution_count": 125,
   "metadata": {},
   "outputs": [
    {
     "name": "stdout",
     "output_type": "stream",
     "text": [
      "                             OLS Regression Results                            \n",
      "===============================================================================\n",
      "Dep. Variable:     Yearly Amount Spent   R-squared:                       0.020\n",
      "Model:                             OLS   Adj. R-squared:                  0.008\n",
      "Method:                  Least Squares   F-statistic:                     1.623\n",
      "Date:                 Thu, 24 Mar 2022   Prob (F-statistic):              0.153\n",
      "Time:                         16:59:53   Log-Likelihood:                -3408.2\n",
      "No. Observations:                  400   AIC:                             6828.\n",
      "Df Residuals:                      394   BIC:                             6852.\n",
      "Df Model:                            5                                         \n",
      "Covariance Type:             nonrobust                                         \n",
      "========================================================================================\n",
      "                           coef    std err          t      P>|t|      [0.025      0.975]\n",
      "----------------------------------------------------------------------------------------\n",
      "const                  724.7540    111.196      6.518      0.000     506.142     943.366\n",
      "Avg. Session Length    -23.7757     65.679     -0.362      0.718    -152.902     105.350\n",
      "Time on App           -112.8838     67.424     -1.674      0.095    -245.440      19.672\n",
      "Time on Website        -60.3470     61.444     -0.982      0.327    -181.146      60.452\n",
      "Length of Membership  -190.6771     77.971     -2.445      0.015    -343.969     -37.385\n",
      "Gender_Male           -310.1598    174.397     -1.778      0.076    -653.025      32.706\n",
      "==============================================================================\n",
      "Omnibus:                      933.944   Durbin-Watson:                   1.992\n",
      "Prob(Omnibus):                  0.000   Jarque-Bera (JB):          2273369.188\n",
      "Skew:                          18.876   Prob(JB):                         0.00\n",
      "Kurtosis:                     370.392   Cond. No.                         4.14\n",
      "==============================================================================\n",
      "\n",
      "Notes:\n",
      "[1] Standard Errors assume that the covariance matrix of the errors is correctly specified.\n"
     ]
    }
   ],
   "source": [
    "model = sm.OLS(y_train, X_trainReg)\n",
    "results = model.fit()\n",
    "print(results.summary())"
   ]
  },
  {
   "cell_type": "code",
   "execution_count": 127,
   "metadata": {},
   "outputs": [],
   "source": [
    "from statsmodels.stats.outliers_influence import OLSInfluence"
   ]
  },
  {
   "cell_type": "code",
   "execution_count": 128,
   "metadata": {},
   "outputs": [
    {
     "data": {
      "text/html": [
       "<div>\n",
       "<style scoped>\n",
       "    .dataframe tbody tr th:only-of-type {\n",
       "        vertical-align: middle;\n",
       "    }\n",
       "\n",
       "    .dataframe tbody tr th {\n",
       "        vertical-align: top;\n",
       "    }\n",
       "\n",
       "    .dataframe thead th {\n",
       "        text-align: right;\n",
       "    }\n",
       "</style>\n",
       "<table border=\"1\" class=\"dataframe\">\n",
       "  <thead>\n",
       "    <tr style=\"text-align: right;\">\n",
       "      <th></th>\n",
       "      <th>0</th>\n",
       "    </tr>\n",
       "  </thead>\n",
       "  <tbody>\n",
       "    <tr>\n",
       "      <th>count</th>\n",
       "      <td>400.000000</td>\n",
       "    </tr>\n",
       "    <tr>\n",
       "      <th>mean</th>\n",
       "      <td>1.879549</td>\n",
       "    </tr>\n",
       "    <tr>\n",
       "      <th>std</th>\n",
       "      <td>47.423269</td>\n",
       "    </tr>\n",
       "    <tr>\n",
       "      <th>min</th>\n",
       "      <td>-47.966569</td>\n",
       "    </tr>\n",
       "    <tr>\n",
       "      <th>25%</th>\n",
       "      <td>-2.205530</td>\n",
       "    </tr>\n",
       "    <tr>\n",
       "      <th>50%</th>\n",
       "      <td>-0.544450</td>\n",
       "    </tr>\n",
       "    <tr>\n",
       "      <th>75%</th>\n",
       "      <td>0.708627</td>\n",
       "    </tr>\n",
       "    <tr>\n",
       "      <th>max</th>\n",
       "      <td>932.247781</td>\n",
       "    </tr>\n",
       "  </tbody>\n",
       "</table>\n",
       "</div>"
      ],
      "text/plain": [
       "                0\n",
       "count  400.000000\n",
       "mean     1.879549\n",
       "std     47.423269\n",
       "min    -47.966569\n",
       "25%     -2.205530\n",
       "50%     -0.544450\n",
       "75%      0.708627\n",
       "max    932.247781"
      ]
     },
     "execution_count": 128,
     "metadata": {},
     "output_type": "execute_result"
    }
   ],
   "source": [
    "influence_points = OLSInfluence(results) # results is output from the lm model built earlier\n",
    "\n",
    "pd.DataFrame(influence_points.influence).describe()"
   ]
  },
  {
   "cell_type": "code",
   "execution_count": 129,
   "metadata": {},
   "outputs": [
    {
     "data": {
      "text/html": [
       "<div>\n",
       "<style scoped>\n",
       "    .dataframe tbody tr th:only-of-type {\n",
       "        vertical-align: middle;\n",
       "    }\n",
       "\n",
       "    .dataframe tbody tr th {\n",
       "        vertical-align: top;\n",
       "    }\n",
       "\n",
       "    .dataframe thead th {\n",
       "        text-align: right;\n",
       "    }\n",
       "</style>\n",
       "<table border=\"1\" class=\"dataframe\">\n",
       "  <thead>\n",
       "    <tr style=\"text-align: right;\">\n",
       "      <th></th>\n",
       "      <th>Avg. Session Length</th>\n",
       "      <th>Time on App</th>\n",
       "      <th>Time on Website</th>\n",
       "      <th>Length of Membership</th>\n",
       "      <th>Yearly Amount Spent</th>\n",
       "      <th>Gender_Male</th>\n",
       "      <th>influence_value</th>\n",
       "    </tr>\n",
       "  </thead>\n",
       "  <tbody>\n",
       "    <tr>\n",
       "      <th>499</th>\n",
       "      <td>32.836941</td>\n",
       "      <td>10.256549</td>\n",
       "      <td>36.143908</td>\n",
       "      <td>0.789520</td>\n",
       "      <td>25006.670580</td>\n",
       "      <td>1</td>\n",
       "      <td>932.247781</td>\n",
       "    </tr>\n",
       "    <tr>\n",
       "      <th>1</th>\n",
       "      <td>34.603311</td>\n",
       "      <td>12.207298</td>\n",
       "      <td>33.913847</td>\n",
       "      <td>6.922689</td>\n",
       "      <td>744.221867</td>\n",
       "      <td>1</td>\n",
       "      <td>103.141658</td>\n",
       "    </tr>\n",
       "    <tr>\n",
       "      <th>5</th>\n",
       "      <td>34.507551</td>\n",
       "      <td>12.893669</td>\n",
       "      <td>37.635756</td>\n",
       "      <td>5.705154</td>\n",
       "      <td>700.917092</td>\n",
       "      <td>1</td>\n",
       "      <td>57.076581</td>\n",
       "    </tr>\n",
       "    <tr>\n",
       "      <th>0</th>\n",
       "      <td>34.374258</td>\n",
       "      <td>15.126994</td>\n",
       "      <td>37.157624</td>\n",
       "      <td>5.377594</td>\n",
       "      <td>765.518462</td>\n",
       "      <td>0</td>\n",
       "      <td>38.217472</td>\n",
       "    </tr>\n",
       "    <tr>\n",
       "      <th>11</th>\n",
       "      <td>33.215472</td>\n",
       "      <td>12.135101</td>\n",
       "      <td>37.142094</td>\n",
       "      <td>5.840506</td>\n",
       "      <td>663.803693</td>\n",
       "      <td>1</td>\n",
       "      <td>31.923832</td>\n",
       "    </tr>\n",
       "    <tr>\n",
       "      <th>16</th>\n",
       "      <td>34.402410</td>\n",
       "      <td>14.220979</td>\n",
       "      <td>37.523197</td>\n",
       "      <td>4.077775</td>\n",
       "      <td>647.619456</td>\n",
       "      <td>1</td>\n",
       "      <td>31.901354</td>\n",
       "    </tr>\n",
       "    <tr>\n",
       "      <th>21</th>\n",
       "      <td>33.871038</td>\n",
       "      <td>12.026925</td>\n",
       "      <td>34.476878</td>\n",
       "      <td>5.493507</td>\n",
       "      <td>637.102448</td>\n",
       "      <td>1</td>\n",
       "      <td>25.510308</td>\n",
       "    </tr>\n",
       "    <tr>\n",
       "      <th>25</th>\n",
       "      <td>33.540479</td>\n",
       "      <td>12.884125</td>\n",
       "      <td>36.226042</td>\n",
       "      <td>5.007272</td>\n",
       "      <td>628.047804</td>\n",
       "      <td>1</td>\n",
       "      <td>20.022987</td>\n",
       "    </tr>\n",
       "    <tr>\n",
       "      <th>3</th>\n",
       "      <td>34.967610</td>\n",
       "      <td>13.919494</td>\n",
       "      <td>37.952013</td>\n",
       "      <td>5.066697</td>\n",
       "      <td>712.396327</td>\n",
       "      <td>0</td>\n",
       "      <td>19.330839</td>\n",
       "    </tr>\n",
       "    <tr>\n",
       "      <th>7</th>\n",
       "      <td>32.533240</td>\n",
       "      <td>14.121784</td>\n",
       "      <td>38.406329</td>\n",
       "      <td>5.320094</td>\n",
       "      <td>689.235700</td>\n",
       "      <td>0</td>\n",
       "      <td>17.240197</td>\n",
       "    </tr>\n",
       "  </tbody>\n",
       "</table>\n",
       "</div>"
      ],
      "text/plain": [
       "     Avg. Session Length  Time on App  Time on Website  Length of Membership  \\\n",
       "499            32.836941    10.256549        36.143908              0.789520   \n",
       "1              34.603311    12.207298        33.913847              6.922689   \n",
       "5              34.507551    12.893669        37.635756              5.705154   \n",
       "0              34.374258    15.126994        37.157624              5.377594   \n",
       "11             33.215472    12.135101        37.142094              5.840506   \n",
       "16             34.402410    14.220979        37.523197              4.077775   \n",
       "21             33.871038    12.026925        34.476878              5.493507   \n",
       "25             33.540479    12.884125        36.226042              5.007272   \n",
       "3              34.967610    13.919494        37.952013              5.066697   \n",
       "7              32.533240    14.121784        38.406329              5.320094   \n",
       "\n",
       "     Yearly Amount Spent  Gender_Male  influence_value  \n",
       "499         25006.670580            1       932.247781  \n",
       "1             744.221867            1       103.141658  \n",
       "5             700.917092            1        57.076581  \n",
       "0             765.518462            0        38.217472  \n",
       "11            663.803693            1        31.923832  \n",
       "16            647.619456            1        31.901354  \n",
       "21            637.102448            1        25.510308  \n",
       "25            628.047804            1        20.022987  \n",
       "3             712.396327            0        19.330839  \n",
       "7             689.235700            0        17.240197  "
      ]
     },
     "execution_count": 129,
     "metadata": {},
     "output_type": "execute_result"
    }
   ],
   "source": [
    "influence_data = pd.DataFrame(influence_points.influence[influence_points.influence>=10])\n",
    "customers_clean['influence_value']= influence_points.influence\n",
    "customers_clean.loc[influence_data.index,].sort_values(['influence_value'], ascending = False).head(10)\n"
   ]
  },
  {
   "cell_type": "markdown",
   "metadata": {},
   "source": [
    "### Handling the outliers and Infleuntial points "
   ]
  },
  {
   "cell_type": "code",
   "execution_count": 130,
   "metadata": {},
   "outputs": [],
   "source": [
    "\n",
    "customers_clean1 = customers_clean[customers_clean.influence_value<=10]"
   ]
  },
  {
   "cell_type": "code",
   "execution_count": 131,
   "metadata": {},
   "outputs": [
    {
     "name": "stdout",
     "output_type": "stream",
     "text": [
      "Data Size before removing outliers (500, 7)\n",
      "Date Size after removing outliers (385, 7)\n"
     ]
    }
   ],
   "source": [
    "print('Data Size before removing outliers {}'.format(customers_clean.shape))\n",
    "print('Date Size after removing outliers {}'.format(customers_clean1.shape))"
   ]
  },
  {
   "cell_type": "code",
   "execution_count": 143,
   "metadata": {},
   "outputs": [
    {
     "data": {
      "text/html": [
       "<div>\n",
       "<style scoped>\n",
       "    .dataframe tbody tr th:only-of-type {\n",
       "        vertical-align: middle;\n",
       "    }\n",
       "\n",
       "    .dataframe tbody tr th {\n",
       "        vertical-align: top;\n",
       "    }\n",
       "\n",
       "    .dataframe thead th {\n",
       "        text-align: right;\n",
       "    }\n",
       "</style>\n",
       "<table border=\"1\" class=\"dataframe\">\n",
       "  <thead>\n",
       "    <tr style=\"text-align: right;\">\n",
       "      <th></th>\n",
       "      <th>Avg. Session Length</th>\n",
       "      <th>Time on App</th>\n",
       "      <th>Time on Website</th>\n",
       "      <th>Length of Membership</th>\n",
       "      <th>Yearly Amount Spent</th>\n",
       "      <th>Gender_Male</th>\n",
       "      <th>influence_value</th>\n",
       "    </tr>\n",
       "  </thead>\n",
       "  <tbody>\n",
       "    <tr>\n",
       "      <th>10</th>\n",
       "      <td>34.482388</td>\n",
       "      <td>13.283033</td>\n",
       "      <td>35.907298</td>\n",
       "      <td>4.968743</td>\n",
       "      <td>666.125592</td>\n",
       "      <td>0</td>\n",
       "      <td>6.691685</td>\n",
       "    </tr>\n",
       "    <tr>\n",
       "      <th>13</th>\n",
       "      <td>32.407148</td>\n",
       "      <td>13.808799</td>\n",
       "      <td>37.426769</td>\n",
       "      <td>5.039955</td>\n",
       "      <td>662.961088</td>\n",
       "      <td>0</td>\n",
       "      <td>7.861432</td>\n",
       "    </tr>\n",
       "    <tr>\n",
       "      <th>17</th>\n",
       "      <td>32.931336</td>\n",
       "      <td>12.732212</td>\n",
       "      <td>35.600821</td>\n",
       "      <td>5.485977</td>\n",
       "      <td>642.101579</td>\n",
       "      <td>0</td>\n",
       "      <td>5.393969</td>\n",
       "    </tr>\n",
       "    <tr>\n",
       "      <th>20</th>\n",
       "      <td>35.039283</td>\n",
       "      <td>14.426491</td>\n",
       "      <td>37.374184</td>\n",
       "      <td>3.930615</td>\n",
       "      <td>640.187740</td>\n",
       "      <td>0</td>\n",
       "      <td>9.531983</td>\n",
       "    </tr>\n",
       "    <tr>\n",
       "      <th>22</th>\n",
       "      <td>33.085298</td>\n",
       "      <td>13.093537</td>\n",
       "      <td>38.315648</td>\n",
       "      <td>4.750360</td>\n",
       "      <td>632.123588</td>\n",
       "      <td>0</td>\n",
       "      <td>4.412076</td>\n",
       "    </tr>\n",
       "  </tbody>\n",
       "</table>\n",
       "</div>"
      ],
      "text/plain": [
       "    Avg. Session Length  Time on App  Time on Website  Length of Membership  \\\n",
       "10            34.482388    13.283033        35.907298              4.968743   \n",
       "13            32.407148    13.808799        37.426769              5.039955   \n",
       "17            32.931336    12.732212        35.600821              5.485977   \n",
       "20            35.039283    14.426491        37.374184              3.930615   \n",
       "22            33.085298    13.093537        38.315648              4.750360   \n",
       "\n",
       "    Yearly Amount Spent  Gender_Male  influence_value  \n",
       "10           666.125592            0         6.691685  \n",
       "13           662.961088            0         7.861432  \n",
       "17           642.101579            0         5.393969  \n",
       "20           640.187740            0         9.531983  \n",
       "22           632.123588            0         4.412076  "
      ]
     },
     "execution_count": 143,
     "metadata": {},
     "output_type": "execute_result"
    }
   ],
   "source": [
    "customers_clean1.head()"
   ]
  },
  {
   "cell_type": "code",
   "execution_count": 144,
   "metadata": {},
   "outputs": [
    {
     "data": {
      "text/html": [
       "<div>\n",
       "<style scoped>\n",
       "    .dataframe tbody tr th:only-of-type {\n",
       "        vertical-align: middle;\n",
       "    }\n",
       "\n",
       "    .dataframe tbody tr th {\n",
       "        vertical-align: top;\n",
       "    }\n",
       "\n",
       "    .dataframe thead th {\n",
       "        text-align: right;\n",
       "    }\n",
       "</style>\n",
       "<table border=\"1\" class=\"dataframe\">\n",
       "  <thead>\n",
       "    <tr style=\"text-align: right;\">\n",
       "      <th></th>\n",
       "      <th>const</th>\n",
       "      <th>Avg. Session Length</th>\n",
       "      <th>Time on App</th>\n",
       "      <th>Time on Website</th>\n",
       "      <th>Length of Membership</th>\n",
       "      <th>Gender_Male</th>\n",
       "    </tr>\n",
       "  </thead>\n",
       "  <tbody>\n",
       "    <tr>\n",
       "      <th>232</th>\n",
       "      <td>1.0</td>\n",
       "      <td>33.694898</td>\n",
       "      <td>11.202670</td>\n",
       "      <td>35.493964</td>\n",
       "      <td>4.015987</td>\n",
       "      <td>0</td>\n",
       "    </tr>\n",
       "    <tr>\n",
       "      <th>451</th>\n",
       "      <td>1.0</td>\n",
       "      <td>34.606242</td>\n",
       "      <td>11.761884</td>\n",
       "      <td>38.126520</td>\n",
       "      <td>1.820811</td>\n",
       "      <td>1</td>\n",
       "    </tr>\n",
       "    <tr>\n",
       "      <th>380</th>\n",
       "      <td>1.0</td>\n",
       "      <td>33.863189</td>\n",
       "      <td>11.523523</td>\n",
       "      <td>35.938045</td>\n",
       "      <td>3.013033</td>\n",
       "      <td>1</td>\n",
       "    </tr>\n",
       "    <tr>\n",
       "      <th>261</th>\n",
       "      <td>1.0</td>\n",
       "      <td>33.914015</td>\n",
       "      <td>12.266504</td>\n",
       "      <td>36.575031</td>\n",
       "      <td>3.023474</td>\n",
       "      <td>1</td>\n",
       "    </tr>\n",
       "    <tr>\n",
       "      <th>103</th>\n",
       "      <td>1.0</td>\n",
       "      <td>33.551651</td>\n",
       "      <td>11.936895</td>\n",
       "      <td>35.900253</td>\n",
       "      <td>4.543332</td>\n",
       "      <td>0</td>\n",
       "    </tr>\n",
       "  </tbody>\n",
       "</table>\n",
       "</div>"
      ],
      "text/plain": [
       "     const  Avg. Session Length  Time on App  Time on Website  \\\n",
       "232    1.0            33.694898    11.202670        35.493964   \n",
       "451    1.0            34.606242    11.761884        38.126520   \n",
       "380    1.0            33.863189    11.523523        35.938045   \n",
       "261    1.0            33.914015    12.266504        36.575031   \n",
       "103    1.0            33.551651    11.936895        35.900253   \n",
       "\n",
       "     Length of Membership  Gender_Male  \n",
       "232              4.015987            0  \n",
       "451              1.820811            1  \n",
       "380              3.013033            1  \n",
       "261              3.023474            1  \n",
       "103              4.543332            0  "
      ]
     },
     "execution_count": 144,
     "metadata": {},
     "output_type": "execute_result"
    }
   ],
   "source": [
    "X = customers_clean1.drop(['Yearly Amount Spent','influence_value'],axis=1)\n",
    "y = customers_clean1['Yearly Amount Spent']\n",
    "X_train, X_test, y_train, y_test = train_test_split(X, y, test_size=0.2, random_state=101)\n",
    "# adding the Constant term\n",
    "X_reg = sm.add_constant(X_train)\n",
    "X_reg.head()"
   ]
  },
  {
   "cell_type": "code",
   "execution_count": 145,
   "metadata": {},
   "outputs": [],
   "source": [
    "from scipy import stats\n"
   ]
  },
  {
   "cell_type": "markdown",
   "metadata": {},
   "source": [
    "## Standardizing the data \n"
   ]
  },
  {
   "cell_type": "code",
   "execution_count": 146,
   "metadata": {},
   "outputs": [],
   "source": [
    "from sklearn.preprocessing import MinMaxScaler, StandardScaler\n",
    "scaler = StandardScaler()"
   ]
  },
  {
   "cell_type": "code",
   "execution_count": 147,
   "metadata": {},
   "outputs": [],
   "source": [
    "num_vars = ['Avg. Session Length', 'Time on App', 'Time on Website',\n",
    "       'Length of Membership']"
   ]
  },
  {
   "cell_type": "code",
   "execution_count": 148,
   "metadata": {},
   "outputs": [],
   "source": [
    "X = customers_clean1.drop(['Yearly Amount Spent','influence_value'],axis=1)\n"
   ]
  },
  {
   "cell_type": "code",
   "execution_count": 149,
   "metadata": {
    "scrolled": true
   },
   "outputs": [],
   "source": [
    "y = customers_clean1['Yearly Amount Spent']\n",
    "X_train, X_test, y_train, y_test = train_test_split(X, y, test_size=0.2, random_state=101)\n"
   ]
  },
  {
   "cell_type": "code",
   "execution_count": 150,
   "metadata": {},
   "outputs": [],
   "source": [
    "X_train[num_vars] = scaler.fit_transform(X_train[num_vars])\n",
    "X_test[num_vars] = scaler.fit_transform(X_test[num_vars])"
   ]
  },
  {
   "cell_type": "code",
   "execution_count": 151,
   "metadata": {},
   "outputs": [
    {
     "data": {
      "text/html": [
       "<div>\n",
       "<style scoped>\n",
       "    .dataframe tbody tr th:only-of-type {\n",
       "        vertical-align: middle;\n",
       "    }\n",
       "\n",
       "    .dataframe tbody tr th {\n",
       "        vertical-align: top;\n",
       "    }\n",
       "\n",
       "    .dataframe thead th {\n",
       "        text-align: right;\n",
       "    }\n",
       "</style>\n",
       "<table border=\"1\" class=\"dataframe\">\n",
       "  <thead>\n",
       "    <tr style=\"text-align: right;\">\n",
       "      <th></th>\n",
       "      <th>const</th>\n",
       "      <th>Avg. Session Length</th>\n",
       "      <th>Time on App</th>\n",
       "      <th>Time on Website</th>\n",
       "      <th>Length of Membership</th>\n",
       "      <th>Gender_Male</th>\n",
       "    </tr>\n",
       "  </thead>\n",
       "  <tbody>\n",
       "    <tr>\n",
       "      <th>232</th>\n",
       "      <td>1.0</td>\n",
       "      <td>0.640389</td>\n",
       "      <td>-0.818373</td>\n",
       "      <td>-1.559405</td>\n",
       "      <td>0.594869</td>\n",
       "      <td>0</td>\n",
       "    </tr>\n",
       "    <tr>\n",
       "      <th>451</th>\n",
       "      <td>1.0</td>\n",
       "      <td>1.554709</td>\n",
       "      <td>-0.240155</td>\n",
       "      <td>1.091997</td>\n",
       "      <td>-1.741790</td>\n",
       "      <td>1</td>\n",
       "    </tr>\n",
       "    <tr>\n",
       "      <th>380</th>\n",
       "      <td>1.0</td>\n",
       "      <td>0.809229</td>\n",
       "      <td>-0.486617</td>\n",
       "      <td>-1.112145</td>\n",
       "      <td>-0.472727</td>\n",
       "      <td>1</td>\n",
       "    </tr>\n",
       "    <tr>\n",
       "      <th>261</th>\n",
       "      <td>1.0</td>\n",
       "      <td>0.860222</td>\n",
       "      <td>0.281613</td>\n",
       "      <td>-0.470599</td>\n",
       "      <td>-0.461612</td>\n",
       "      <td>1</td>\n",
       "    </tr>\n",
       "    <tr>\n",
       "      <th>103</th>\n",
       "      <td>1.0</td>\n",
       "      <td>0.496674</td>\n",
       "      <td>-0.059197</td>\n",
       "      <td>-1.150208</td>\n",
       "      <td>1.156203</td>\n",
       "      <td>0</td>\n",
       "    </tr>\n",
       "  </tbody>\n",
       "</table>\n",
       "</div>"
      ],
      "text/plain": [
       "     const  Avg. Session Length  Time on App  Time on Website  \\\n",
       "232    1.0             0.640389    -0.818373        -1.559405   \n",
       "451    1.0             1.554709    -0.240155         1.091997   \n",
       "380    1.0             0.809229    -0.486617        -1.112145   \n",
       "261    1.0             0.860222     0.281613        -0.470599   \n",
       "103    1.0             0.496674    -0.059197        -1.150208   \n",
       "\n",
       "     Length of Membership  Gender_Male  \n",
       "232              0.594869            0  \n",
       "451             -1.741790            1  \n",
       "380             -0.472727            1  \n",
       "261             -0.461612            1  \n",
       "103              1.156203            0  "
      ]
     },
     "execution_count": 151,
     "metadata": {},
     "output_type": "execute_result"
    }
   ],
   "source": [
    "# adding the Constant term\n",
    "X_reg = sm.add_constant(X_train)\n",
    "X_reg.head()"
   ]
  },
  {
   "cell_type": "code",
   "execution_count": 152,
   "metadata": {},
   "outputs": [],
   "source": [
    "scaler = StandardScaler()\n",
    "X_train[num_vars] = scaler.fit_transform(X_train[num_vars])\n",
    "X_test[num_vars] = scaler.fit_transform(X_test[num_vars])\n",
    "# adding the Constant term\n",
    "X_trainReg = sm.add_constant(X_train)\n",
    "X_testReg = sm.add_constant(X_test)\n"
   ]
  },
  {
   "cell_type": "code",
   "execution_count": 153,
   "metadata": {},
   "outputs": [
    {
     "name": "stdout",
     "output_type": "stream",
     "text": [
      "                             OLS Regression Results                            \n",
      "===============================================================================\n",
      "Dep. Variable:     Yearly Amount Spent   R-squared:                       0.982\n",
      "Model:                             OLS   Adj. R-squared:                  0.982\n",
      "Method:                  Least Squares   F-statistic:                     3290.\n",
      "Date:                 Thu, 24 Mar 2022   Prob (F-statistic):          6.14e-261\n",
      "Time:                         17:01:09   Log-Likelihood:                -1135.3\n",
      "No. Observations:                  308   AIC:                             2283.\n",
      "Df Residuals:                      302   BIC:                             2305.\n",
      "Df Model:                            5                                         \n",
      "Covariance Type:             nonrobust                                         \n",
      "========================================================================================\n",
      "                           coef    std err          t      P>|t|      [0.025      0.975]\n",
      "----------------------------------------------------------------------------------------\n",
      "const                  495.7166      1.124    440.973      0.000     493.504     497.929\n",
      "Avg. Session Length     24.1623      0.629     38.416      0.000      22.925      25.400\n",
      "Time on App             36.3698      0.661     55.020      0.000      35.069      37.671\n",
      "Time on Website          0.4110      0.557      0.738      0.461      -0.685       1.507\n",
      "Length of Membership    55.7008      0.806     69.149      0.000      54.116      57.286\n",
      "Gender_Male             -6.5252      1.824     -3.577      0.000     -10.115      -2.935\n",
      "==============================================================================\n",
      "Omnibus:                        0.426   Durbin-Watson:                   1.828\n",
      "Prob(Omnibus):                  0.808   Jarque-Bera (JB):                0.447\n",
      "Skew:                          -0.089   Prob(JB):                        0.800\n",
      "Kurtosis:                       2.945   Cond. No.                         4.83\n",
      "==============================================================================\n",
      "\n",
      "Notes:\n",
      "[1] Standard Errors assume that the covariance matrix of the errors is correctly specified.\n"
     ]
    }
   ],
   "source": [
    "model = sm.OLS(y_train, X_trainReg)\n",
    "results = model.fit()\n",
    "print(results.summary())"
   ]
  },
  {
   "cell_type": "markdown",
   "metadata": {},
   "source": [
    "## ## Model refinement - Using Sequential Feature selection"
   ]
  },
  {
   "cell_type": "code",
   "execution_count": 154,
   "metadata": {},
   "outputs": [],
   "source": [
    "# Python style of Linear Regression model\n",
    "from sklearn.linear_model import LinearRegression\n",
    "lm = LinearRegression()"
   ]
  },
  {
   "cell_type": "code",
   "execution_count": 155,
   "metadata": {},
   "outputs": [
    {
     "data": {
      "text/plain": [
       "LinearRegression()"
      ]
     },
     "execution_count": 155,
     "metadata": {},
     "output_type": "execute_result"
    }
   ],
   "source": [
    "lm.fit(X_train,y_train)"
   ]
  },
  {
   "cell_type": "code",
   "execution_count": 75,
   "metadata": {},
   "outputs": [],
   "source": [
    "from mlxtend.feature_selection import SequentialFeatureSelector as SFS\n",
    "from mlxtend.plotting import plot_sequential_feature_selection as plot_sfs"
   ]
  },
  {
   "cell_type": "code",
   "execution_count": 81,
   "metadata": {},
   "outputs": [],
   "source": [
    "sfs = SFS(lm,\n",
    "         k_features='best',\n",
    "         forward=False,\n",
    "         floating=False,\n",
    "         scoring='r2',\n",
    "         cv=5)\n",
    "\n",
    "sfs = sfs.fit(X_train,y_train)"
   ]
  },
  {
   "cell_type": "code",
   "execution_count": 82,
   "metadata": {},
   "outputs": [
    {
     "data": {
      "text/html": [
       "<div>\n",
       "<style scoped>\n",
       "    .dataframe tbody tr th:only-of-type {\n",
       "        vertical-align: middle;\n",
       "    }\n",
       "\n",
       "    .dataframe tbody tr th {\n",
       "        vertical-align: top;\n",
       "    }\n",
       "\n",
       "    .dataframe thead th {\n",
       "        text-align: right;\n",
       "    }\n",
       "</style>\n",
       "<table border=\"1\" class=\"dataframe\">\n",
       "  <thead>\n",
       "    <tr style=\"text-align: right;\">\n",
       "      <th></th>\n",
       "      <th>feature_idx</th>\n",
       "      <th>cv_scores</th>\n",
       "      <th>avg_score</th>\n",
       "      <th>feature_names</th>\n",
       "      <th>ci_bound</th>\n",
       "      <th>std_dev</th>\n",
       "      <th>std_err</th>\n",
       "    </tr>\n",
       "  </thead>\n",
       "  <tbody>\n",
       "    <tr>\n",
       "      <th>5</th>\n",
       "      <td>(0, 1, 2, 3, 4)</td>\n",
       "      <td>[0.9806634823408198, 0.9826243870779449, 0.978...</td>\n",
       "      <td>0.980454</td>\n",
       "      <td>(Avg. Session Length, Time on App, Time on Web...</td>\n",
       "      <td>0.002021</td>\n",
       "      <td>0.001572</td>\n",
       "      <td>0.000786</td>\n",
       "    </tr>\n",
       "    <tr>\n",
       "      <th>4</th>\n",
       "      <td>(0, 1, 3, 4)</td>\n",
       "      <td>[0.9806740667576824, 0.9826702007778354, 0.978...</td>\n",
       "      <td>0.980532</td>\n",
       "      <td>(Avg. Session Length, Time on App, Length of M...</td>\n",
       "      <td>0.002001</td>\n",
       "      <td>0.001557</td>\n",
       "      <td>0.000778</td>\n",
       "    </tr>\n",
       "    <tr>\n",
       "      <th>3</th>\n",
       "      <td>(0, 1, 3)</td>\n",
       "      <td>[0.979945901431019, 0.9813558648213505, 0.9795...</td>\n",
       "      <td>0.979802</td>\n",
       "      <td>(Avg. Session Length, Time on App, Length of M...</td>\n",
       "      <td>0.001362</td>\n",
       "      <td>0.001059</td>\n",
       "      <td>0.00053</td>\n",
       "    </tr>\n",
       "    <tr>\n",
       "      <th>2</th>\n",
       "      <td>(1, 3)</td>\n",
       "      <td>[0.8514502469661143, 0.8531001956622152, 0.825...</td>\n",
       "      <td>0.85108</td>\n",
       "      <td>(Time on App, Length of Membership)</td>\n",
       "      <td>0.019563</td>\n",
       "      <td>0.01522</td>\n",
       "      <td>0.00761</td>\n",
       "    </tr>\n",
       "    <tr>\n",
       "      <th>1</th>\n",
       "      <td>(3,)</td>\n",
       "      <td>[0.6167849166711126, 0.6666926794539225, 0.558...</td>\n",
       "      <td>0.601005</td>\n",
       "      <td>(Length of Membership,)</td>\n",
       "      <td>0.07276</td>\n",
       "      <td>0.05661</td>\n",
       "      <td>0.028305</td>\n",
       "    </tr>\n",
       "  </tbody>\n",
       "</table>\n",
       "</div>"
      ],
      "text/plain": [
       "       feature_idx                                          cv_scores  \\\n",
       "5  (0, 1, 2, 3, 4)  [0.9806634823408198, 0.9826243870779449, 0.978...   \n",
       "4     (0, 1, 3, 4)  [0.9806740667576824, 0.9826702007778354, 0.978...   \n",
       "3        (0, 1, 3)  [0.979945901431019, 0.9813558648213505, 0.9795...   \n",
       "2           (1, 3)  [0.8514502469661143, 0.8531001956622152, 0.825...   \n",
       "1             (3,)  [0.6167849166711126, 0.6666926794539225, 0.558...   \n",
       "\n",
       "  avg_score                                      feature_names  ci_bound  \\\n",
       "5  0.980454  (Avg. Session Length, Time on App, Time on Web...  0.002021   \n",
       "4  0.980532  (Avg. Session Length, Time on App, Length of M...  0.002001   \n",
       "3  0.979802  (Avg. Session Length, Time on App, Length of M...  0.001362   \n",
       "2   0.85108                (Time on App, Length of Membership)  0.019563   \n",
       "1  0.601005                            (Length of Membership,)   0.07276   \n",
       "\n",
       "    std_dev   std_err  \n",
       "5  0.001572  0.000786  \n",
       "4  0.001557  0.000778  \n",
       "3  0.001059   0.00053  \n",
       "2   0.01522   0.00761  \n",
       "1   0.05661  0.028305  "
      ]
     },
     "execution_count": 82,
     "metadata": {},
     "output_type": "execute_result"
    }
   ],
   "source": [
    "sfs_results = pd.DataFrame.from_dict(sfs.get_metric_dict(confidence_interval=0.95)).T\n",
    "sfs_results"
   ]
  },
  {
   "cell_type": "markdown",
   "metadata": {},
   "source": [
    "### Picking the best model visually¶"
   ]
  },
  {
   "cell_type": "code",
   "execution_count": 84,
   "metadata": {},
   "outputs": [
    {
     "data": {
      "image/png": "[encoded data removed]",
      "text/plain": [
       "<Figure size 432x288 with 1 Axes>"
      ]
     },
     "metadata": {
      "needs_background": "light"
     },
     "output_type": "display_data"
    }
   ],
   "source": [
    "plot_sfs(sfs.get_metric_dict(), kind='std_err')\n",
    "plt.grid()\n",
    "plt.show()"
   ]
  },
  {
   "cell_type": "markdown",
   "metadata": {},
   "source": [
    "## Multi-collinearity"
   ]
  },
  {
   "cell_type": "code",
   "execution_count": 86,
   "metadata": {},
   "outputs": [],
   "source": [
    "from statsmodels.stats.outliers_influence import variance_inflation_factor\n"
   ]
  },
  {
   "cell_type": "code",
   "execution_count": 94,
   "metadata": {},
   "outputs": [
    {
     "data": {
      "text/plain": [
       "0     Avg. Session Length\n",
       "1             Time on App\n",
       "2         Time on Website\n",
       "3    Length of Membership\n",
       "4     Yearly Amount Spent\n",
       "5             Gender_Male\n",
       "Name: feature, dtype: object"
      ]
     },
     "execution_count": 94,
     "metadata": {},
     "output_type": "execute_result"
    }
   ],
   "source": [
    "vif_data[\"feature\"] "
   ]
  },
  {
   "cell_type": "code",
   "execution_count": 95,
   "metadata": {},
   "outputs": [
    {
     "data": {
      "text/html": [
       "<div>\n",
       "<style scoped>\n",
       "    .dataframe tbody tr th:only-of-type {\n",
       "        vertical-align: middle;\n",
       "    }\n",
       "\n",
       "    .dataframe tbody tr th {\n",
       "        vertical-align: top;\n",
       "    }\n",
       "\n",
       "    .dataframe thead th {\n",
       "        text-align: right;\n",
       "    }\n",
       "</style>\n",
       "<table border=\"1\" class=\"dataframe\">\n",
       "  <thead>\n",
       "    <tr style=\"text-align: right;\">\n",
       "      <th></th>\n",
       "      <th>feature</th>\n",
       "      <th>VIF</th>\n",
       "    </tr>\n",
       "  </thead>\n",
       "  <tbody>\n",
       "    <tr>\n",
       "      <th>2</th>\n",
       "      <td>Time on Website</td>\n",
       "      <td>877.292678</td>\n",
       "    </tr>\n",
       "    <tr>\n",
       "      <th>0</th>\n",
       "      <td>Avg. Session Length</td>\n",
       "      <td>644.484163</td>\n",
       "    </tr>\n",
       "    <tr>\n",
       "      <th>1</th>\n",
       "      <td>Time on App</td>\n",
       "      <td>171.340841</td>\n",
       "    </tr>\n",
       "    <tr>\n",
       "      <th>3</th>\n",
       "      <td>Length of Membership</td>\n",
       "      <td>25.561017</td>\n",
       "    </tr>\n",
       "    <tr>\n",
       "      <th>4</th>\n",
       "      <td>Yearly Amount Spent</td>\n",
       "      <td>4.298223</td>\n",
       "    </tr>\n",
       "  </tbody>\n",
       "</table>\n",
       "</div>"
      ],
      "text/plain": [
       "                feature         VIF\n",
       "2       Time on Website  877.292678\n",
       "0   Avg. Session Length  644.484163\n",
       "1           Time on App  171.340841\n",
       "3  Length of Membership   25.561017\n",
       "4   Yearly Amount Spent    4.298223"
      ]
     },
     "execution_count": 95,
     "metadata": {},
     "output_type": "execute_result"
    }
   ],
   "source": [
    "# VIF dataframe\n",
    "vif_data = pd.DataFrame()\n",
    "vif_data[\"feature\"] = customers_clean1.drop(['influence_value','Gender_Male'],axis=1).columns\n",
    "  \n",
    "# calculating VIF for each feature\n",
    "vif_data[\"VIF\"] = [variance_inflation_factor(X.values, i)\n",
    "                          for i in range(len(X.columns))]\n",
    "  \n",
    "vif_data.sort_values(['VIF'],ascending=False)"
   ]
  },
  {
   "cell_type": "code",
   "execution_count": 96,
   "metadata": {},
   "outputs": [
    {
     "data": {
      "text/plain": [
       "<matplotlib.axes._subplots.AxesSubplot at 0x127cd37b8>"
      ]
     },
     "execution_count": 96,
     "metadata": {},
     "output_type": "execute_result"
    },
    {
     "data": {
      "image/png": "[encoded data removed]",
      "text/plain": [
       "<Figure size 432x288 with 2 Axes>"
      ]
     },
     "metadata": {
      "needs_background": "light"
     },
     "output_type": "display_data"
    }
   ],
   "source": [
    "sns.heatmap(customers_clean1.drop(['influence_value'],axis=1).corr(),annot=True,cmap='Greens')"
   ]
  },
  {
   "cell_type": "markdown",
   "metadata": {},
   "source": [
    "## Recursive Feature Elimination"
   ]
  },
  {
   "cell_type": "code",
   "execution_count": 97,
   "metadata": {},
   "outputs": [],
   "source": [
    "from sklearn.feature_selection import RFE\n"
   ]
  },
  {
   "cell_type": "code",
   "execution_count": 98,
   "metadata": {},
   "outputs": [
    {
     "name": "stdout",
     "output_type": "stream",
     "text": [
      "Index(['Avg. Session Length', 'Time on App', 'Time on Website',\n",
      "       'Length of Membership', 'Gender_Male'],\n",
      "      dtype='object')\n",
      "4273.1392769004815\n",
      "Index(['Avg. Session Length', 'Time on App', 'Length of Membership',\n",
      "       'Gender_Male'],\n",
      "      dtype='object')\n",
      "4271.183521751131\n",
      "Index(['Avg. Session Length', 'Time on App', 'Length of Membership'], dtype='object')\n",
      "4698.72926848347\n",
      "Break !\n"
     ]
    }
   ],
   "source": [
    "indp_vars = X\n",
    "min_aic = 10**100 # initiailizing AIC to a very large value \n",
    "for i in range(indp_vars.shape[1],0,-1):\n",
    "    regression_model = LinearRegression()\n",
    "    rfe = RFE(regression_model, n_features_to_select=i)\n",
    "    rfe = rfe.fit(X_train, y_train)\n",
    "    chk = X_train.loc[:,list(rfe.support_)]\n",
    "    print(chk.columns)\n",
    "    regression_model=sm.OLS(y_train,chk)\n",
    "    result=regression_model.fit()\n",
    "    current_aic = result.aic\n",
    "    print(current_aic)\n",
    "    if(current_aic <= min_aic):\n",
    "        min_aic = current_aic\n",
    "        bestmodel = chk.columns\n",
    "    else:\n",
    "        print(\"Break !\")\n",
    "        break"
   ]
  },
  {
   "cell_type": "code",
   "execution_count": 99,
   "metadata": {},
   "outputs": [
    {
     "data": {
      "text/plain": [
       "Index(['Avg. Session Length', 'Time on App', 'Length of Membership',\n",
       "       'Gender_Male'],\n",
       "      dtype='object')"
      ]
     },
     "execution_count": 99,
     "metadata": {},
     "output_type": "execute_result"
    }
   ],
   "source": [
    "bestmodel"
   ]
  },
  {
   "cell_type": "code",
   "execution_count": 100,
   "metadata": {},
   "outputs": [
    {
     "name": "stdout",
     "output_type": "stream",
     "text": [
      "                    Results: Ordinary least squares\n",
      "========================================================================\n",
      "Model:               OLS                  Adj. R-squared:      0.982    \n",
      "Dependent Variable:  Yearly Amount Spent  AIC:                 2281.2132\n",
      "Date:                2022-03-24 16:00     BIC:                 2299.8637\n",
      "No. Observations:    308                  Log-Likelihood:      -1135.6  \n",
      "Df Model:            4                    F-statistic:         4118.    \n",
      "Df Residuals:        303                  Prob (F-statistic):  1.18e-262\n",
      "R-squared:           0.982                Scale:               94.875   \n",
      "------------------------------------------------------------------------\n",
      "                      Coef.   Std.Err.    t     P>|t|   [0.025   0.975] \n",
      "------------------------------------------------------------------------\n",
      "Avg. Session Length   24.1735   0.6283  38.4743 0.0000  22.9371  25.4099\n",
      "Time on App           36.4036   0.6589  55.2451 0.0000  35.1069  37.7003\n",
      "Length of Membership  55.7015   0.8049  69.2018 0.0000  54.1176  57.2855\n",
      "Gender_Male           -6.5040   1.8228  -3.5682 0.0004 -10.0909  -2.9171\n",
      "intercept            495.7053   1.1232 441.3363 0.0000 493.4951 497.9155\n",
      "------------------------------------------------------------------------\n",
      "Omnibus:                0.405           Durbin-Watson:             1.823\n",
      "Prob(Omnibus):          0.817           Jarque-Bera (JB):          0.416\n",
      "Skew:                   -0.087          Prob(JB):                  0.812\n",
      "Kurtosis:               2.954           Condition No.:             5    \n",
      "========================================================================\n",
      "\n"
     ]
    }
   ],
   "source": [
    "bestmodel_data = X_train.loc[:,bestmodel]\n",
    "bestmodel_data['intercept'] =1\n",
    "bestmodel_data.head()\n",
    "regression_model=sm.OLS(y_train,bestmodel_data)\n",
    "result=regression_model.fit()\n",
    "print(result.summary2())"
   ]
  },
  {
   "cell_type": "markdown",
   "metadata": {},
   "source": [
    "## Transformations on the data "
   ]
  },
  {
   "cell_type": "code",
   "execution_count": 101,
   "metadata": {},
   "outputs": [
    {
     "data": {
      "image/png": "[encoded data removed]",
      "text/plain": [
       "<IPython.core.display.Image object>"
      ]
     },
     "execution_count": 101,
     "metadata": {
      "image/png": {
       "height": 800,
       "width": 600
      }
     },
     "output_type": "execute_result"
    }
   ],
   "source": [
    "Image(\"box-cox.png\",height=800 , width=600)\n"
   ]
  },
  {
   "cell_type": "code",
   "execution_count": 102,
   "metadata": {},
   "outputs": [
    {
     "name": "stdout",
     "output_type": "stream",
     "text": [
      "The Lambda value  is  -0.8369461723904743\n",
      "Confidence interval is  (-1.005876538262102, -0.689626833826291)\n"
     ]
    }
   ],
   "source": [
    "from scipy.stats import boxcox\n",
    "from scipy.special import inv_boxcox\n",
    "\n",
    "y_bc,lam, ci= boxcox(customers_clean['Yearly Amount Spent'],alpha=0.05)\n",
    "\n",
    "print('The Lambda value  is ',lam)\n",
    "\n",
    "print('Confidence interval is ',ci)\n",
    "#lam\n",
    "\n",
    "# it did not perform better for this model, so log transform is used\n",
    "#customers_clean['Yearly Amount Spent'] = y_bc \n",
    "\n"
   ]
  },
  {
   "cell_type": "code",
   "execution_count": 108,
   "metadata": {},
   "outputs": [],
   "source": [
    "transformed = (customers_clean1['Yearly Amount Spent']**lam-1)/lam"
   ]
  },
  {
   "cell_type": "code",
   "execution_count": 109,
   "metadata": {},
   "outputs": [
    {
     "name": "stdout",
     "output_type": "stream",
     "text": [
      "\n",
      "*** The orginal data *** \n",
      "\n",
      "[765.5184619 744.2218671 725.5848141 712.3963268 708.9351849]\n",
      "\n",
      "*** Transformed Data *** \n",
      "\n",
      "[1.18964226 1.18962158 1.18948061 1.18946725 1.18941016]\n",
      "\n",
      "*** Inverse Transformed Data *** \n",
      "\n",
      "[765.5184619 744.2218671 725.5848141 712.3963268 708.9351849]\n"
     ]
    }
   ],
   "source": [
    "print(\"\\n*** The orginal data *** \\n\")\n",
    "print(np.array(customers_clean['Yearly Amount Spent'] [:5]))\n",
    "\n",
    "print(\"\\n*** Transformed Data *** \\n\")\n",
    "print(np.array(transformed[:5]))\n",
    "print(\"\\n*** Inverse Transformed Data *** \\n\")\n",
    "print(inv_boxcox(y_bc, lam)[:5])\n"
   ]
  },
  {
   "cell_type": "code",
   "execution_count": 110,
   "metadata": {},
   "outputs": [
    {
     "data": {
      "image/png": "[encoded data removed]",
      "text/plain": [
       "<Figure size 864x288 with 2 Axes>"
      ]
     },
     "metadata": {
      "needs_background": "light"
     },
     "output_type": "display_data"
    }
   ],
   "source": [
    "f= plt.figure(figsize=(12,4))\n",
    "\n",
    "ax=f.add_subplot(121)\n",
    "sns.distplot(customers_clean1['Yearly Amount Spent'],bins=50,color='r',ax=ax)\n",
    "ax.set_title('Yearly Amount Spent')\n",
    "\n",
    "ax=f.add_subplot(122)\n",
    "sns.distplot(transformed,bins=40,color='b',ax=ax)\n",
    "ax.set_title('Transformed : Yearly Amount Spent')\n",
    "ax.set_xscale('log');"
   ]
  },
  {
   "cell_type": "markdown",
   "metadata": {},
   "source": [
    "### Log Transformations on the data \n"
   ]
  },
  {
   "cell_type": "code",
   "execution_count": 112,
   "metadata": {},
   "outputs": [
    {
     "data": {
      "image/png": "[encoded data removed]",
      "text/plain": [
       "<Figure size 864x288 with 2 Axes>"
      ]
     },
     "metadata": {
      "needs_background": "light"
     },
     "output_type": "display_data"
    }
   ],
   "source": [
    "f= plt.figure(figsize=(12,4))\n",
    "\n",
    "ax=f.add_subplot(121)\n",
    "sns.distplot(customers_clean1['Yearly Amount Spent'],bins=50,color='r',ax=ax)\n",
    "ax.set_title('Yearly Amount Spent')\n",
    "\n",
    "ax=f.add_subplot(122)\n",
    "sns.distplot(np.log10(customers_clean1['Yearly Amount Spent']),bins=40,color='b',ax=ax)\n",
    "ax.set_title('Yearly Amount Spent in $log$ sacle')\n",
    "ax.set_xscale('log');"
   ]
  },
  {
   "cell_type": "code",
   "execution_count": null,
   "metadata": {},
   "outputs": [],
   "source": []
  }
 ],
 "metadata": {
  "kernelspec": {
   "display_name": "Python 3",
   "language": "python",
   "name": "python3"
  },
  "language_info": {
   "codemirror_mode": {
    "name": "ipython",
    "version": 3
   },
   "file_extension": ".py",
   "mimetype": "text/x-python",
   "name": "python",
   "nbconvert_exporter": "python",
   "pygments_lexer": "ipython3",
   "version": "3.7.3"
  }
 },
 "nbformat": 4,
 "nbformat_minor": 1
}
