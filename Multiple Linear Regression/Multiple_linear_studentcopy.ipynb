{
 "cells": [
  {
   "cell_type": "markdown",
   "id": "4162af42",
   "metadata": {},
   "source": [
    "# ## About the Data\n",
    "\n",
    "We'll work with the Ecommerce Customers csv file from the company. It has Customer info, suchas Email, Address, and their color Avatar. Then it also has numerical value columns:\n",
    "\n",
    "* Avg. Session Length: Average session of in-store style advice sessions.\n",
    "* Time on App: Average time spent on App in minutes\n",
    "* Time on Website: Average time spent on Website in minutes\n",
    "* Length of Membership: How many years the customer has been a member. \n",
    "\n",
    "** Read in the Ecommerce Customers csv file as a DataFrame.**"
   ]
  },
  {
   "cell_type": "markdown",
   "id": "2252724e",
   "metadata": {},
   "source": [
    "# ## Loading the required modules \n",
    "** Import pandas, numpy, matplotlib,and seaborn. Then set %matplotlib inline \n",
    "(You'll import sklearn as you need it.)**"
   ]
  },
  {
   "cell_type": "code",
   "execution_count": null,
   "id": "1e3bddf3",
   "metadata": {},
   "outputs": [],
   "source": [
    "#import Libraries"
   ]
  },
  {
   "cell_type": "code",
   "execution_count": null,
   "id": "2e3a5dfa",
   "metadata": {},
   "outputs": [],
   "source": [
    "#read the dataset"
   ]
  },
  {
   "cell_type": "code",
   "execution_count": null,
   "id": "d2b89fcc",
   "metadata": {},
   "outputs": [],
   "source": [
    "#check the shape of data"
   ]
  },
  {
   "cell_type": "code",
   "execution_count": null,
   "id": "becd9817",
   "metadata": {},
   "outputs": [],
   "source": [
    "# snapshot of the data"
   ]
  },
  {
   "cell_type": "code",
   "execution_count": null,
   "id": "c9476197",
   "metadata": {},
   "outputs": [],
   "source": [
    "#describe numeric variables"
   ]
  },
  {
   "cell_type": "code",
   "execution_count": null,
   "id": "19ce9469",
   "metadata": {},
   "outputs": [],
   "source": [
    " # To understand the data type for each of the variables "
   ]
  },
  {
   "cell_type": "markdown",
   "id": "10ee62e2",
   "metadata": {},
   "source": [
    "# ## Exploratory Data Analysis\n",
    "\n",
    "**Let's explore the data!**\n",
    "\n"
   ]
  },
  {
   "cell_type": "code",
   "execution_count": null,
   "id": "eb74f59a",
   "metadata": {},
   "outputs": [],
   "source": [
    "#scatter plot for \"Avg. Session Length\" vs \"Yearly Amount Spent\""
   ]
  },
  {
   "cell_type": "code",
   "execution_count": null,
   "id": "7bbb4258",
   "metadata": {},
   "outputs": [],
   "source": [
    "#scatter plot for \"Time on Website\" vs \"Yearly Amount Spent\""
   ]
  },
  {
   "cell_type": "code",
   "execution_count": null,
   "id": "f0e28469",
   "metadata": {},
   "outputs": [],
   "source": [
    "#scatter plot for \"Time on App\" vs \"Yearly Amount Spent\""
   ]
  },
  {
   "cell_type": "code",
   "execution_count": null,
   "id": "a1ddfa39",
   "metadata": {},
   "outputs": [],
   "source": [
    "#scatter plot for \" Length of Membership\" vs \"Yearly Amount Spent\""
   ]
  },
  {
   "cell_type": "code",
   "execution_count": null,
   "id": "d79e18f7",
   "metadata": {},
   "outputs": [],
   "source": [
    "#drop uniq varibles which is not important"
   ]
  },
  {
   "cell_type": "code",
   "execution_count": null,
   "id": "59db51aa",
   "metadata": {},
   "outputs": [],
   "source": [
    "#check correlation"
   ]
  },
  {
   "cell_type": "code",
   "execution_count": null,
   "id": "2e6f14c5",
   "metadata": {},
   "outputs": [],
   "source": [
    "#check correlation using heatmap"
   ]
  },
  {
   "cell_type": "markdown",
   "id": "e4db574c",
   "metadata": {},
   "source": [
    " ## Dealing with Categorical Variables\n"
   ]
  },
  {
   "cell_type": "code",
   "execution_count": null,
   "id": "25d2d3eb",
   "metadata": {},
   "outputs": [],
   "source": []
  },
  {
   "cell_type": "code",
   "execution_count": null,
   "id": "89db579e",
   "metadata": {},
   "outputs": [],
   "source": []
  },
  {
   "cell_type": "markdown",
   "id": "060d7781",
   "metadata": {},
   "source": [
    " ## Data Preparation for model building \n",
    "\n",
    "Now that we've explored the data a bit, let's go ahead and split the data into training and testing sets.\n",
    "** Set a variable X equal to the numerical features of the customers and a variable y equal to the \"Yearly Amount Spent\" column. **"
   ]
  },
  {
   "cell_type": "code",
   "execution_count": null,
   "id": "4acc30cf",
   "metadata": {},
   "outputs": [],
   "source": [
    "#splittind data into dependent and independent as x,y"
   ]
  },
  {
   "cell_type": "markdown",
   "id": "f4f6aabe",
   "metadata": {},
   "source": [
    " ## Spilit the data into Training and Testing Data"
   ]
  },
  {
   "cell_type": "code",
   "execution_count": null,
   "id": "c3e08083",
   "metadata": {},
   "outputs": [],
   "source": [
    "#using train_test_split split data into train and test"
   ]
  },
  {
   "cell_type": "markdown",
   "id": "d09da11e",
   "metadata": {},
   "source": [
    " ## Training the Model\n",
    "\n",
    "Now its time to train our model on our training data!\n",
    "\n"
   ]
  },
  {
   "cell_type": "code",
   "execution_count": null,
   "id": "442223a7",
   "metadata": {},
   "outputs": [],
   "source": [
    "# taking the models that are already developed in R and calling them via statsmodel.API "
   ]
  },
  {
   "cell_type": "code",
   "execution_count": 1,
   "id": "92eeb3b3",
   "metadata": {},
   "outputs": [],
   "source": [
    "## adding the Constant term"
   ]
  },
  {
   "cell_type": "code",
   "execution_count": null,
   "id": "1b3d2348",
   "metadata": {},
   "outputs": [],
   "source": [
    "#model summary"
   ]
  }
 ],
 "metadata": {
  "kernelspec": {
   "display_name": "Python 3 (ipykernel)",
   "language": "python",
   "name": "python3"
  },
  "language_info": {
   "codemirror_mode": {
    "name": "ipython",
    "version": 3
   },
   "file_extension": ".py",
   "mimetype": "text/x-python",
   "name": "python",
   "nbconvert_exporter": "python",
   "pygments_lexer": "ipython3",
   "version": "3.9.13"
  }
 },
 "nbformat": 4,
 "nbformat_minor": 5
}
